{
 "cells": [
  {
   "cell_type": "code",
   "execution_count": 12,
   "id": "7cc2179c",
   "metadata": {},
   "outputs": [],
   "source": [
    "#Import all required libraries\n",
    "import pandas as pd\n",
    "import numpy as np\n",
    "import matplotlib.pyplot as plt\n",
    "import seaborn as sns\n",
    "import warnings\n",
    "warnings.filterwarnings('ignore')\n",
    "pd.set_option('display.float_format', lambda x: '%.5f' % x) # To supress numerical display in scientific notations"
   ]
  },
  {
   "cell_type": "markdown",
   "id": "5194a847",
   "metadata": {},
   "source": [
    "### Read the input data set"
   ]
  },
  {
   "cell_type": "code",
   "execution_count": 13,
   "id": "32b39958",
   "metadata": {},
   "outputs": [],
   "source": [
    "cardio = pd.read_csv(\"CardioGoodFitness.csv\")"
   ]
  },
  {
   "cell_type": "code",
   "execution_count": 14,
   "id": "81ee2cb5",
   "metadata": {},
   "outputs": [
    {
     "data": {
      "text/html": [
       "<div>\n",
       "<style scoped>\n",
       "    .dataframe tbody tr th:only-of-type {\n",
       "        vertical-align: middle;\n",
       "    }\n",
       "\n",
       "    .dataframe tbody tr th {\n",
       "        vertical-align: top;\n",
       "    }\n",
       "\n",
       "    .dataframe thead th {\n",
       "        text-align: right;\n",
       "    }\n",
       "</style>\n",
       "<table border=\"1\" class=\"dataframe\">\n",
       "  <thead>\n",
       "    <tr style=\"text-align: right;\">\n",
       "      <th></th>\n",
       "      <th>Product</th>\n",
       "      <th>Age</th>\n",
       "      <th>Gender</th>\n",
       "      <th>Education</th>\n",
       "      <th>MaritalStatus</th>\n",
       "      <th>Usage</th>\n",
       "      <th>Fitness</th>\n",
       "      <th>Income</th>\n",
       "      <th>Miles</th>\n",
       "    </tr>\n",
       "  </thead>\n",
       "  <tbody>\n",
       "    <tr>\n",
       "      <th>0</th>\n",
       "      <td>TM195</td>\n",
       "      <td>18</td>\n",
       "      <td>Male</td>\n",
       "      <td>14</td>\n",
       "      <td>Single</td>\n",
       "      <td>3</td>\n",
       "      <td>4</td>\n",
       "      <td>29562</td>\n",
       "      <td>112</td>\n",
       "    </tr>\n",
       "    <tr>\n",
       "      <th>1</th>\n",
       "      <td>TM195</td>\n",
       "      <td>19</td>\n",
       "      <td>Male</td>\n",
       "      <td>15</td>\n",
       "      <td>Single</td>\n",
       "      <td>2</td>\n",
       "      <td>3</td>\n",
       "      <td>31836</td>\n",
       "      <td>75</td>\n",
       "    </tr>\n",
       "    <tr>\n",
       "      <th>2</th>\n",
       "      <td>TM195</td>\n",
       "      <td>19</td>\n",
       "      <td>Female</td>\n",
       "      <td>14</td>\n",
       "      <td>Partnered</td>\n",
       "      <td>4</td>\n",
       "      <td>3</td>\n",
       "      <td>30699</td>\n",
       "      <td>66</td>\n",
       "    </tr>\n",
       "    <tr>\n",
       "      <th>3</th>\n",
       "      <td>TM195</td>\n",
       "      <td>19</td>\n",
       "      <td>Male</td>\n",
       "      <td>12</td>\n",
       "      <td>Single</td>\n",
       "      <td>3</td>\n",
       "      <td>3</td>\n",
       "      <td>32973</td>\n",
       "      <td>85</td>\n",
       "    </tr>\n",
       "    <tr>\n",
       "      <th>4</th>\n",
       "      <td>TM195</td>\n",
       "      <td>20</td>\n",
       "      <td>Male</td>\n",
       "      <td>13</td>\n",
       "      <td>Partnered</td>\n",
       "      <td>4</td>\n",
       "      <td>2</td>\n",
       "      <td>35247</td>\n",
       "      <td>47</td>\n",
       "    </tr>\n",
       "    <tr>\n",
       "      <th>5</th>\n",
       "      <td>TM195</td>\n",
       "      <td>20</td>\n",
       "      <td>Female</td>\n",
       "      <td>14</td>\n",
       "      <td>Partnered</td>\n",
       "      <td>3</td>\n",
       "      <td>3</td>\n",
       "      <td>32973</td>\n",
       "      <td>66</td>\n",
       "    </tr>\n",
       "    <tr>\n",
       "      <th>6</th>\n",
       "      <td>TM195</td>\n",
       "      <td>21</td>\n",
       "      <td>Female</td>\n",
       "      <td>14</td>\n",
       "      <td>Partnered</td>\n",
       "      <td>3</td>\n",
       "      <td>3</td>\n",
       "      <td>35247</td>\n",
       "      <td>75</td>\n",
       "    </tr>\n",
       "    <tr>\n",
       "      <th>7</th>\n",
       "      <td>TM195</td>\n",
       "      <td>21</td>\n",
       "      <td>Male</td>\n",
       "      <td>13</td>\n",
       "      <td>Single</td>\n",
       "      <td>3</td>\n",
       "      <td>3</td>\n",
       "      <td>32973</td>\n",
       "      <td>85</td>\n",
       "    </tr>\n",
       "    <tr>\n",
       "      <th>8</th>\n",
       "      <td>TM195</td>\n",
       "      <td>21</td>\n",
       "      <td>Male</td>\n",
       "      <td>15</td>\n",
       "      <td>Single</td>\n",
       "      <td>5</td>\n",
       "      <td>4</td>\n",
       "      <td>35247</td>\n",
       "      <td>141</td>\n",
       "    </tr>\n",
       "    <tr>\n",
       "      <th>9</th>\n",
       "      <td>TM195</td>\n",
       "      <td>21</td>\n",
       "      <td>Female</td>\n",
       "      <td>15</td>\n",
       "      <td>Partnered</td>\n",
       "      <td>2</td>\n",
       "      <td>3</td>\n",
       "      <td>37521</td>\n",
       "      <td>85</td>\n",
       "    </tr>\n",
       "  </tbody>\n",
       "</table>\n",
       "</div>"
      ],
      "text/plain": [
       "  Product  Age  Gender  Education MaritalStatus  Usage  Fitness  Income  Miles\n",
       "0   TM195   18    Male         14        Single      3        4   29562    112\n",
       "1   TM195   19    Male         15        Single      2        3   31836     75\n",
       "2   TM195   19  Female         14     Partnered      4        3   30699     66\n",
       "3   TM195   19    Male         12        Single      3        3   32973     85\n",
       "4   TM195   20    Male         13     Partnered      4        2   35247     47\n",
       "5   TM195   20  Female         14     Partnered      3        3   32973     66\n",
       "6   TM195   21  Female         14     Partnered      3        3   35247     75\n",
       "7   TM195   21    Male         13        Single      3        3   32973     85\n",
       "8   TM195   21    Male         15        Single      5        4   35247    141\n",
       "9   TM195   21  Female         15     Partnered      2        3   37521     85"
      ]
     },
     "execution_count": 14,
     "metadata": {},
     "output_type": "execute_result"
    }
   ],
   "source": [
    "#show the top 10 rows of the data set\n",
    "cardio.head(10)"
   ]
  },
  {
   "cell_type": "code",
   "execution_count": 15,
   "id": "aeb56a8f",
   "metadata": {},
   "outputs": [
    {
     "name": "stdout",
     "output_type": "stream",
     "text": [
      "<class 'pandas.core.frame.DataFrame'>\n",
      "RangeIndex: 180 entries, 0 to 179\n",
      "Data columns (total 9 columns):\n",
      " #   Column         Non-Null Count  Dtype \n",
      "---  ------         --------------  ----- \n",
      " 0   Product        180 non-null    object\n",
      " 1   Age            180 non-null    int64 \n",
      " 2   Gender         180 non-null    object\n",
      " 3   Education      180 non-null    int64 \n",
      " 4   MaritalStatus  180 non-null    object\n",
      " 5   Usage          180 non-null    int64 \n",
      " 6   Fitness        180 non-null    int64 \n",
      " 7   Income         180 non-null    int64 \n",
      " 8   Miles          180 non-null    int64 \n",
      "dtypes: int64(6), object(3)\n",
      "memory usage: 12.8+ KB\n"
     ]
    }
   ],
   "source": [
    "cardio.info()"
   ]
  },
  {
   "cell_type": "markdown",
   "id": "826733b3",
   "metadata": {},
   "source": [
    "Observations\n",
    "1. From the 8 columns, 1 is string type, 2 are categorical and remaining are integers.\n",
    "2. All columns have values\n",
    "3. The data occupies 10.6KB of memory space."
   ]
  },
  {
   "cell_type": "markdown",
   "id": "a9c6c396",
   "metadata": {},
   "source": [
    "# Understanding of the data"
   ]
  },
  {
   "cell_type": "markdown",
   "id": "d9889e4f",
   "metadata": {},
   "source": [
    "#### 1. Overview of the data"
   ]
  },
  {
   "cell_type": "code",
   "execution_count": 16,
   "id": "da954561",
   "metadata": {},
   "outputs": [
    {
     "data": {
      "text/plain": [
       "(180, 9)"
      ]
     },
     "execution_count": 16,
     "metadata": {},
     "output_type": "execute_result"
    }
   ],
   "source": [
    "#show the number of rows and columns in the input data set.\n",
    "cardio.shape"
   ]
  },
  {
   "cell_type": "markdown",
   "id": "9c8e8290",
   "metadata": {},
   "source": [
    "Observation - There are 180 rows and 9 columns in the input data set."
   ]
  },
  {
   "cell_type": "markdown",
   "id": "ad8ffdef",
   "metadata": {},
   "source": [
    "#### 2. Check the data types of each column"
   ]
  },
  {
   "cell_type": "code",
   "execution_count": 17,
   "id": "474254bc",
   "metadata": {},
   "outputs": [
    {
     "data": {
      "text/plain": [
       "Product          object\n",
       "Age               int64\n",
       "Gender           object\n",
       "Education         int64\n",
       "MaritalStatus    object\n",
       "Usage             int64\n",
       "Fitness           int64\n",
       "Income            int64\n",
       "Miles             int64\n",
       "dtype: object"
      ]
     },
     "execution_count": 17,
     "metadata": {},
     "output_type": "execute_result"
    }
   ],
   "source": [
    "#show the data type of each column in the input data set.\n",
    "cardio.dtypes"
   ]
  },
  {
   "cell_type": "markdown",
   "id": "c5d0171b",
   "metadata": {},
   "source": [
    "Observation\n",
    "1. Product, Gender and Marital Status are object data types while remaining columns are numerical data types.\n",
    "2. Gender and marital status can be converted to category data type as they are categorical data types."
   ]
  },
  {
   "cell_type": "code",
   "execution_count": 18,
   "id": "37e2a719",
   "metadata": {},
   "outputs": [],
   "source": [
    "#convert gender into categorical data type\n",
    "cardio.Gender = cardio.Gender.astype('category')\n",
    "\n",
    "#convert marital status into categorical data type\n",
    "cardio.MaritalStatus = cardio.MaritalStatus.astype('category')"
   ]
  },
  {
   "cell_type": "code",
   "execution_count": 19,
   "id": "fff9d834",
   "metadata": {},
   "outputs": [
    {
     "data": {
      "text/plain": [
       "Product            object\n",
       "Age                 int64\n",
       "Gender           category\n",
       "Education           int64\n",
       "MaritalStatus    category\n",
       "Usage               int64\n",
       "Fitness             int64\n",
       "Income              int64\n",
       "Miles               int64\n",
       "dtype: object"
      ]
     },
     "execution_count": 19,
     "metadata": {},
     "output_type": "execute_result"
    }
   ],
   "source": [
    "#now to confirm the change in data types of the columns of the input data set.\n",
    "cardio.dtypes"
   ]
  },
  {
   "cell_type": "markdown",
   "id": "d3bb95ea",
   "metadata": {},
   "source": [
    "#### 3. Check for missing values"
   ]
  },
  {
   "cell_type": "code",
   "execution_count": 20,
   "id": "ed42ea23",
   "metadata": {},
   "outputs": [
    {
     "data": {
      "text/html": [
       "<div>\n",
       "<style scoped>\n",
       "    .dataframe tbody tr th:only-of-type {\n",
       "        vertical-align: middle;\n",
       "    }\n",
       "\n",
       "    .dataframe tbody tr th {\n",
       "        vertical-align: top;\n",
       "    }\n",
       "\n",
       "    .dataframe thead th {\n",
       "        text-align: right;\n",
       "    }\n",
       "</style>\n",
       "<table border=\"1\" class=\"dataframe\">\n",
       "  <thead>\n",
       "    <tr style=\"text-align: right;\">\n",
       "      <th></th>\n",
       "      <th>Product</th>\n",
       "      <th>Age</th>\n",
       "      <th>Gender</th>\n",
       "      <th>Education</th>\n",
       "      <th>MaritalStatus</th>\n",
       "      <th>Usage</th>\n",
       "      <th>Fitness</th>\n",
       "      <th>Income</th>\n",
       "      <th>Miles</th>\n",
       "    </tr>\n",
       "  </thead>\n",
       "  <tbody>\n",
       "    <tr>\n",
       "      <th>0</th>\n",
       "      <td>False</td>\n",
       "      <td>False</td>\n",
       "      <td>False</td>\n",
       "      <td>False</td>\n",
       "      <td>False</td>\n",
       "      <td>False</td>\n",
       "      <td>False</td>\n",
       "      <td>False</td>\n",
       "      <td>False</td>\n",
       "    </tr>\n",
       "    <tr>\n",
       "      <th>1</th>\n",
       "      <td>False</td>\n",
       "      <td>False</td>\n",
       "      <td>False</td>\n",
       "      <td>False</td>\n",
       "      <td>False</td>\n",
       "      <td>False</td>\n",
       "      <td>False</td>\n",
       "      <td>False</td>\n",
       "      <td>False</td>\n",
       "    </tr>\n",
       "    <tr>\n",
       "      <th>2</th>\n",
       "      <td>False</td>\n",
       "      <td>False</td>\n",
       "      <td>False</td>\n",
       "      <td>False</td>\n",
       "      <td>False</td>\n",
       "      <td>False</td>\n",
       "      <td>False</td>\n",
       "      <td>False</td>\n",
       "      <td>False</td>\n",
       "    </tr>\n",
       "    <tr>\n",
       "      <th>3</th>\n",
       "      <td>False</td>\n",
       "      <td>False</td>\n",
       "      <td>False</td>\n",
       "      <td>False</td>\n",
       "      <td>False</td>\n",
       "      <td>False</td>\n",
       "      <td>False</td>\n",
       "      <td>False</td>\n",
       "      <td>False</td>\n",
       "    </tr>\n",
       "    <tr>\n",
       "      <th>4</th>\n",
       "      <td>False</td>\n",
       "      <td>False</td>\n",
       "      <td>False</td>\n",
       "      <td>False</td>\n",
       "      <td>False</td>\n",
       "      <td>False</td>\n",
       "      <td>False</td>\n",
       "      <td>False</td>\n",
       "      <td>False</td>\n",
       "    </tr>\n",
       "    <tr>\n",
       "      <th>...</th>\n",
       "      <td>...</td>\n",
       "      <td>...</td>\n",
       "      <td>...</td>\n",
       "      <td>...</td>\n",
       "      <td>...</td>\n",
       "      <td>...</td>\n",
       "      <td>...</td>\n",
       "      <td>...</td>\n",
       "      <td>...</td>\n",
       "    </tr>\n",
       "    <tr>\n",
       "      <th>175</th>\n",
       "      <td>False</td>\n",
       "      <td>False</td>\n",
       "      <td>False</td>\n",
       "      <td>False</td>\n",
       "      <td>False</td>\n",
       "      <td>False</td>\n",
       "      <td>False</td>\n",
       "      <td>False</td>\n",
       "      <td>False</td>\n",
       "    </tr>\n",
       "    <tr>\n",
       "      <th>176</th>\n",
       "      <td>False</td>\n",
       "      <td>False</td>\n",
       "      <td>False</td>\n",
       "      <td>False</td>\n",
       "      <td>False</td>\n",
       "      <td>False</td>\n",
       "      <td>False</td>\n",
       "      <td>False</td>\n",
       "      <td>False</td>\n",
       "    </tr>\n",
       "    <tr>\n",
       "      <th>177</th>\n",
       "      <td>False</td>\n",
       "      <td>False</td>\n",
       "      <td>False</td>\n",
       "      <td>False</td>\n",
       "      <td>False</td>\n",
       "      <td>False</td>\n",
       "      <td>False</td>\n",
       "      <td>False</td>\n",
       "      <td>False</td>\n",
       "    </tr>\n",
       "    <tr>\n",
       "      <th>178</th>\n",
       "      <td>False</td>\n",
       "      <td>False</td>\n",
       "      <td>False</td>\n",
       "      <td>False</td>\n",
       "      <td>False</td>\n",
       "      <td>False</td>\n",
       "      <td>False</td>\n",
       "      <td>False</td>\n",
       "      <td>False</td>\n",
       "    </tr>\n",
       "    <tr>\n",
       "      <th>179</th>\n",
       "      <td>False</td>\n",
       "      <td>False</td>\n",
       "      <td>False</td>\n",
       "      <td>False</td>\n",
       "      <td>False</td>\n",
       "      <td>False</td>\n",
       "      <td>False</td>\n",
       "      <td>False</td>\n",
       "      <td>False</td>\n",
       "    </tr>\n",
       "  </tbody>\n",
       "</table>\n",
       "<p>180 rows × 9 columns</p>\n",
       "</div>"
      ],
      "text/plain": [
       "     Product    Age  Gender  Education  MaritalStatus  Usage  Fitness  Income  \\\n",
       "0      False  False   False      False          False  False    False   False   \n",
       "1      False  False   False      False          False  False    False   False   \n",
       "2      False  False   False      False          False  False    False   False   \n",
       "3      False  False   False      False          False  False    False   False   \n",
       "4      False  False   False      False          False  False    False   False   \n",
       "..       ...    ...     ...        ...            ...    ...      ...     ...   \n",
       "175    False  False   False      False          False  False    False   False   \n",
       "176    False  False   False      False          False  False    False   False   \n",
       "177    False  False   False      False          False  False    False   False   \n",
       "178    False  False   False      False          False  False    False   False   \n",
       "179    False  False   False      False          False  False    False   False   \n",
       "\n",
       "     Miles  \n",
       "0    False  \n",
       "1    False  \n",
       "2    False  \n",
       "3    False  \n",
       "4    False  \n",
       "..     ...  \n",
       "175  False  \n",
       "176  False  \n",
       "177  False  \n",
       "178  False  \n",
       "179  False  \n",
       "\n",
       "[180 rows x 9 columns]"
      ]
     },
     "execution_count": 20,
     "metadata": {},
     "output_type": "execute_result"
    }
   ],
   "source": [
    "#Now to check for missing values\n",
    "cardio.isnull()"
   ]
  },
  {
   "cell_type": "markdown",
   "id": "d3dd2f25",
   "metadata": {},
   "source": [
    "Observation\n",
    "1. From the above code, it only shows that the first 5 and last 5 rows have no null values.\n",
    "2. Now I will print rows which have even a single null value to see if the middle rows have null values.\n"
   ]
  },
  {
   "cell_type": "code",
   "execution_count": 21,
   "id": "30ebbbd1",
   "metadata": {},
   "outputs": [
    {
     "data": {
      "text/html": [
       "<div>\n",
       "<style scoped>\n",
       "    .dataframe tbody tr th:only-of-type {\n",
       "        vertical-align: middle;\n",
       "    }\n",
       "\n",
       "    .dataframe tbody tr th {\n",
       "        vertical-align: top;\n",
       "    }\n",
       "\n",
       "    .dataframe thead th {\n",
       "        text-align: right;\n",
       "    }\n",
       "</style>\n",
       "<table border=\"1\" class=\"dataframe\">\n",
       "  <thead>\n",
       "    <tr style=\"text-align: right;\">\n",
       "      <th></th>\n",
       "      <th>Product</th>\n",
       "      <th>Age</th>\n",
       "      <th>Gender</th>\n",
       "      <th>Education</th>\n",
       "      <th>MaritalStatus</th>\n",
       "      <th>Usage</th>\n",
       "      <th>Fitness</th>\n",
       "      <th>Income</th>\n",
       "      <th>Miles</th>\n",
       "    </tr>\n",
       "  </thead>\n",
       "  <tbody>\n",
       "  </tbody>\n",
       "</table>\n",
       "</div>"
      ],
      "text/plain": [
       "Empty DataFrame\n",
       "Columns: [Product, Age, Gender, Education, MaritalStatus, Usage, Fitness, Income, Miles]\n",
       "Index: []"
      ]
     },
     "execution_count": 21,
     "metadata": {},
     "output_type": "execute_result"
    }
   ],
   "source": [
    "#Check for any column where the value is null\n",
    "cardio_null = cardio[cardio.isna().any(axis=1)]\n",
    "#print rows where that column value is null\n",
    "cardio_null\n",
    "#output is a blank data frame."
   ]
  },
  {
   "cell_type": "markdown",
   "id": "6b51eb51",
   "metadata": {},
   "source": [
    "Observation\n",
    "1. I have got a blank data set after printing rows where even a single value across any column is null.\n",
    "2. Hence we can safely say that our input data set has no missing value in any row or any column."
   ]
  },
  {
   "cell_type": "markdown",
   "id": "e0c10dab",
   "metadata": {},
   "source": [
    "#### 4. Statistical summary of the input data set"
   ]
  },
  {
   "cell_type": "code",
   "execution_count": 22,
   "id": "f79af461",
   "metadata": {},
   "outputs": [
    {
     "data": {
      "text/html": [
       "<div>\n",
       "<style scoped>\n",
       "    .dataframe tbody tr th:only-of-type {\n",
       "        vertical-align: middle;\n",
       "    }\n",
       "\n",
       "    .dataframe tbody tr th {\n",
       "        vertical-align: top;\n",
       "    }\n",
       "\n",
       "    .dataframe thead th {\n",
       "        text-align: right;\n",
       "    }\n",
       "</style>\n",
       "<table border=\"1\" class=\"dataframe\">\n",
       "  <thead>\n",
       "    <tr style=\"text-align: right;\">\n",
       "      <th></th>\n",
       "      <th>Age</th>\n",
       "      <th>Education</th>\n",
       "      <th>Usage</th>\n",
       "      <th>Fitness</th>\n",
       "      <th>Income</th>\n",
       "      <th>Miles</th>\n",
       "    </tr>\n",
       "  </thead>\n",
       "  <tbody>\n",
       "    <tr>\n",
       "      <th>count</th>\n",
       "      <td>180.00000</td>\n",
       "      <td>180.00000</td>\n",
       "      <td>180.00000</td>\n",
       "      <td>180.00000</td>\n",
       "      <td>180.00000</td>\n",
       "      <td>180.00000</td>\n",
       "    </tr>\n",
       "    <tr>\n",
       "      <th>mean</th>\n",
       "      <td>28.78889</td>\n",
       "      <td>15.57222</td>\n",
       "      <td>3.45556</td>\n",
       "      <td>3.31111</td>\n",
       "      <td>53719.57778</td>\n",
       "      <td>103.19444</td>\n",
       "    </tr>\n",
       "    <tr>\n",
       "      <th>std</th>\n",
       "      <td>6.94350</td>\n",
       "      <td>1.61705</td>\n",
       "      <td>1.08480</td>\n",
       "      <td>0.95887</td>\n",
       "      <td>16506.68423</td>\n",
       "      <td>51.86360</td>\n",
       "    </tr>\n",
       "    <tr>\n",
       "      <th>min</th>\n",
       "      <td>18.00000</td>\n",
       "      <td>12.00000</td>\n",
       "      <td>2.00000</td>\n",
       "      <td>1.00000</td>\n",
       "      <td>29562.00000</td>\n",
       "      <td>21.00000</td>\n",
       "    </tr>\n",
       "    <tr>\n",
       "      <th>25%</th>\n",
       "      <td>24.00000</td>\n",
       "      <td>14.00000</td>\n",
       "      <td>3.00000</td>\n",
       "      <td>3.00000</td>\n",
       "      <td>44058.75000</td>\n",
       "      <td>66.00000</td>\n",
       "    </tr>\n",
       "    <tr>\n",
       "      <th>50%</th>\n",
       "      <td>26.00000</td>\n",
       "      <td>16.00000</td>\n",
       "      <td>3.00000</td>\n",
       "      <td>3.00000</td>\n",
       "      <td>50596.50000</td>\n",
       "      <td>94.00000</td>\n",
       "    </tr>\n",
       "    <tr>\n",
       "      <th>75%</th>\n",
       "      <td>33.00000</td>\n",
       "      <td>16.00000</td>\n",
       "      <td>4.00000</td>\n",
       "      <td>4.00000</td>\n",
       "      <td>58668.00000</td>\n",
       "      <td>114.75000</td>\n",
       "    </tr>\n",
       "    <tr>\n",
       "      <th>max</th>\n",
       "      <td>50.00000</td>\n",
       "      <td>21.00000</td>\n",
       "      <td>7.00000</td>\n",
       "      <td>5.00000</td>\n",
       "      <td>104581.00000</td>\n",
       "      <td>360.00000</td>\n",
       "    </tr>\n",
       "  </tbody>\n",
       "</table>\n",
       "</div>"
      ],
      "text/plain": [
       "            Age  Education     Usage   Fitness       Income     Miles\n",
       "count 180.00000  180.00000 180.00000 180.00000    180.00000 180.00000\n",
       "mean   28.78889   15.57222   3.45556   3.31111  53719.57778 103.19444\n",
       "std     6.94350    1.61705   1.08480   0.95887  16506.68423  51.86360\n",
       "min    18.00000   12.00000   2.00000   1.00000  29562.00000  21.00000\n",
       "25%    24.00000   14.00000   3.00000   3.00000  44058.75000  66.00000\n",
       "50%    26.00000   16.00000   3.00000   3.00000  50596.50000  94.00000\n",
       "75%    33.00000   16.00000   4.00000   4.00000  58668.00000 114.75000\n",
       "max    50.00000   21.00000   7.00000   5.00000 104581.00000 360.00000"
      ]
     },
     "execution_count": 22,
     "metadata": {},
     "output_type": "execute_result"
    }
   ],
   "source": [
    "#using the describle function, we can understanding of each numerical data column.\n",
    "cardio.describe()"
   ]
  },
  {
   "cell_type": "markdown",
   "id": "b845d261",
   "metadata": {},
   "source": [
    "Observations\n",
    "1. The mean age of all customers buying treadmills is 28.78889. The maximum age of customers is 50 years.\n",
    "2. The mean years of education our customers have is 15.57222 years while maximum years of education that one has is 21 years.\n",
    "3. On an average, our customers use the treadmill 3.4 times a week (3-4 times) while the maximum that one has used is all days of the week.\n",
    "4. The average income of our customers is 53719.5778 while the maximum income among our customers is 104581.00. \n",
    "5. The mean miles that our customers run on the treadmill is 103.19 miles and the maximum that one has ran is 360 miles."
   ]
  },
  {
   "cell_type": "markdown",
   "id": "953aab1b",
   "metadata": {},
   "source": [
    "# Univariate analysis"
   ]
  },
  {
   "cell_type": "markdown",
   "id": "f61af9d8",
   "metadata": {},
   "source": [
    "#### 1. Study of the age of our customers"
   ]
  },
  {
   "cell_type": "code",
   "execution_count": 23,
   "id": "75841e0e",
   "metadata": {},
   "outputs": [
    {
     "data": {
      "text/plain": [
       "<AxesSubplot:xlabel='Age', ylabel='Count'>"
      ]
     },
     "execution_count": 23,
     "metadata": {},
     "output_type": "execute_result"
    },
    {
     "data": {
      "image/png": "[encoded data removed]",
      "text/plain": [
       "<Figure size 432x288 with 1 Axes>"
      ]
     },
     "metadata": {
      "needs_background": "light"
     },
     "output_type": "display_data"
    }
   ],
   "source": [
    "#Histogram of the age of the customers.\n",
    "sns.histplot(cardio.Age)"
   ]
  },
  {
   "cell_type": "markdown",
   "id": "ed652bed",
   "metadata": {},
   "source": [
    "Observations\n",
    "1. The mean age from the above statistics is 28.78889. \n",
    "2. The graph shows that most of our customers are young in age. \n",
    "3. The graph shows as that as the age of our customers increases, the number of the customers also decreases. \n",
    "4. There is a positive skew in our graph."
   ]
  },
  {
   "cell_type": "code",
   "execution_count": 24,
   "id": "c44be20b",
   "metadata": {},
   "outputs": [
    {
     "data": {
      "text/plain": [
       "<AxesSubplot:>"
      ]
     },
     "execution_count": 24,
     "metadata": {},
     "output_type": "execute_result"
    },
    {
     "data": {
      "image/png": "[encoded data removed]",
      "text/plain": [
       "<Figure size 432x288 with 1 Axes>"
      ]
     },
     "metadata": {
      "needs_background": "light"
     },
     "output_type": "display_data"
    }
   ],
   "source": [
    "#Boxplot of the age of the customers.\n",
    "cardio.boxplot(column=['Age'], grid=False, color='black')"
   ]
  },
  {
   "cell_type": "markdown",
   "id": "cb85defe",
   "metadata": {},
   "source": [
    "Observations\n",
    "1. The mean age from the above statistics is 28.78889. \n",
    "2. There are only a few outliers in our boxplot."
   ]
  },
  {
   "cell_type": "markdown",
   "id": "7847bd76",
   "metadata": {},
   "source": [
    "#### 2. Study of the income of our customers"
   ]
  },
  {
   "cell_type": "code",
   "execution_count": 26,
   "id": "4f5d951b",
   "metadata": {},
   "outputs": [
    {
     "data": {
      "text/plain": [
       "<AxesSubplot:xlabel='Income', ylabel='Count'>"
      ]
     },
     "execution_count": 26,
     "metadata": {},
     "output_type": "execute_result"
    },
    {
     "data": {
      "image/png": "[encoded data removed]",
      "text/plain": [
       "<Figure size 432x288 with 1 Axes>"
      ]
     },
     "metadata": {
      "needs_background": "light"
     },
     "output_type": "display_data"
    }
   ],
   "source": [
    "#Histogram of the income of the customers.\n",
    "sns.histplot(cardio.Income)"
   ]
  },
  {
   "cell_type": "markdown",
   "id": "26a2c86c",
   "metadata": {},
   "source": [
    "Observations\n",
    "1. The mean income from the above statistics is 53719.57778. \n",
    "2. The graph shows that most of our customers earn less than 70000. \n",
    "3. The graph shows as that as the income of our customers increases, the number of the customers decreases.\n",
    "4. There is a positive skew in our graph."
   ]
  },
  {
   "cell_type": "code",
   "execution_count": 27,
   "id": "d7a802a0",
   "metadata": {},
   "outputs": [
    {
     "data": {
      "text/plain": [
       "<AxesSubplot:>"
      ]
     },
     "execution_count": 27,
     "metadata": {},
     "output_type": "execute_result"
    },
    {
     "data": {
      "image/png": "[encoded data removed]",
      "text/plain": [
       "<Figure size 432x288 with 1 Axes>"
      ]
     },
     "metadata": {
      "needs_background": "light"
     },
     "output_type": "display_data"
    }
   ],
   "source": [
    "#Boxplot of the income level of the customers.\n",
    "cardio.boxplot(column=['Income'], grid=False, color='black')"
   ]
  },
  {
   "cell_type": "markdown",
   "id": "dac0b339",
   "metadata": {},
   "source": [
    "Observations\n",
    "1. The mean income from the above statistics is 53719.57778. \n",
    "2. There are a lot of outliers in our boxplot which are outside the maximum limit (which is Q3+1.5IQR)."
   ]
  },
  {
   "cell_type": "markdown",
   "id": "307b3a67",
   "metadata": {},
   "source": [
    "#### 3. Study of the education level of our customers"
   ]
  },
  {
   "cell_type": "code",
   "execution_count": 28,
   "id": "3b57db24",
   "metadata": {},
   "outputs": [
    {
     "data": {
      "text/plain": [
       "<AxesSubplot:xlabel='Education', ylabel='Count'>"
      ]
     },
     "execution_count": 28,
     "metadata": {},
     "output_type": "execute_result"
    },
    {
     "data": {
      "image/png": "[encoded data removed]",
      "text/plain": [
       "<Figure size 432x288 with 1 Axes>"
      ]
     },
     "metadata": {
      "needs_background": "light"
     },
     "output_type": "display_data"
    }
   ],
   "source": [
    "#Histogram of the education level of the customers.\n",
    "sns.histplot(cardio.Education)"
   ]
  },
  {
   "cell_type": "markdown",
   "id": "a84c19c8",
   "metadata": {},
   "source": [
    "Observations\n",
    "1. The mean education level from the above statistics is 15.57222. \n",
    "2. The graph shows that most of our customers have less than 17 years of education. \n",
    "3. The graph shows as that as the number of years of education of our customers increases, the number of the customers decreases. "
   ]
  },
  {
   "cell_type": "code",
   "execution_count": 29,
   "id": "389c3ffe",
   "metadata": {},
   "outputs": [
    {
     "data": {
      "text/plain": [
       "<AxesSubplot:>"
      ]
     },
     "execution_count": 29,
     "metadata": {},
     "output_type": "execute_result"
    },
    {
     "data": {
      "image/png": "[encoded data removed]",
      "text/plain": [
       "<Figure size 432x288 with 1 Axes>"
      ]
     },
     "metadata": {
      "needs_background": "light"
     },
     "output_type": "display_data"
    }
   ],
   "source": [
    "#Boxplot of the education level of the customers.\n",
    "cardio.boxplot(column=['Education'], grid=False, color='black')"
   ]
  },
  {
   "cell_type": "markdown",
   "id": "468e2099",
   "metadata": {},
   "source": [
    "Observations\n",
    "1. The median and Q3 of the boxplot coincide. \n",
    "2. The outliers are around 21, which is also the maximum years of education that our customers have completed."
   ]
  },
  {
   "cell_type": "markdown",
   "id": "1e878596",
   "metadata": {},
   "source": [
    "#### 4. Study of the gender of our customers"
   ]
  },
  {
   "cell_type": "code",
   "execution_count": 30,
   "id": "35136697",
   "metadata": {},
   "outputs": [
    {
     "data": {
      "text/plain": [
       "<AxesSubplot:xlabel='Gender', ylabel='Count'>"
      ]
     },
     "execution_count": 30,
     "metadata": {},
     "output_type": "execute_result"
    },
    {
     "data": {
      "image/png": "[encoded data removed]",
      "text/plain": [
       "<Figure size 432x288 with 1 Axes>"
      ]
     },
     "metadata": {
      "needs_background": "light"
     },
     "output_type": "display_data"
    }
   ],
   "source": [
    "#Histogram to show the number of customers when compared by their gender.\n",
    "sns.histplot(cardio.Gender)"
   ]
  },
  {
   "cell_type": "code",
   "execution_count": 31,
   "id": "a8f9ff5e",
   "metadata": {},
   "outputs": [
    {
     "data": {
      "text/plain": [
       "Male      104\n",
       "Female     76\n",
       "Name: Gender, dtype: int64"
      ]
     },
     "execution_count": 31,
     "metadata": {},
     "output_type": "execute_result"
    }
   ],
   "source": [
    "cardio['Gender'].value_counts()"
   ]
  },
  {
   "cell_type": "markdown",
   "id": "b9e27ef9",
   "metadata": {},
   "source": [
    "Observations\n",
    "1. Out of the 180 customers, 104 are male and 76 are females."
   ]
  },
  {
   "cell_type": "markdown",
   "id": "980b1175",
   "metadata": {},
   "source": [
    "#### 5. Study of the marital status of our customers"
   ]
  },
  {
   "cell_type": "code",
   "execution_count": 32,
   "id": "ce9b20e3",
   "metadata": {},
   "outputs": [
    {
     "data": {
      "text/plain": [
       "<AxesSubplot:xlabel='MaritalStatus', ylabel='Count'>"
      ]
     },
     "execution_count": 32,
     "metadata": {},
     "output_type": "execute_result"
    },
    {
     "data": {
      "image/png": "[encoded data removed]",
      "text/plain": [
       "<Figure size 432x288 with 1 Axes>"
      ]
     },
     "metadata": {
      "needs_background": "light"
     },
     "output_type": "display_data"
    }
   ],
   "source": [
    "#Histogram to show the number of customers when compared by their marital status.\n",
    "sns.histplot(cardio.MaritalStatus)"
   ]
  },
  {
   "cell_type": "code",
   "execution_count": 33,
   "id": "6251ba13",
   "metadata": {},
   "outputs": [
    {
     "data": {
      "text/plain": [
       "Partnered    107\n",
       "Single        73\n",
       "Name: MaritalStatus, dtype: int64"
      ]
     },
     "execution_count": 33,
     "metadata": {},
     "output_type": "execute_result"
    }
   ],
   "source": [
    "cardio['MaritalStatus'].value_counts()"
   ]
  },
  {
   "cell_type": "markdown",
   "id": "bcffa415",
   "metadata": {},
   "source": [
    "Observations\n",
    "1. Out of the 180 customers, 107 are partnered and 73 are single."
   ]
  },
  {
   "cell_type": "markdown",
   "id": "b83b95b6",
   "metadata": {},
   "source": [
    "#### 6. Study of the usage levels of our customers"
   ]
  },
  {
   "cell_type": "code",
   "execution_count": 34,
   "id": "5d03ef7f",
   "metadata": {},
   "outputs": [
    {
     "data": {
      "text/plain": [
       "<AxesSubplot:xlabel='Usage', ylabel='Count'>"
      ]
     },
     "execution_count": 34,
     "metadata": {},
     "output_type": "execute_result"
    },
    {
     "data": {
      "image/png": "[encoded data removed]",
      "text/plain": [
       "<Figure size 432x288 with 1 Axes>"
      ]
     },
     "metadata": {
      "needs_background": "light"
     },
     "output_type": "display_data"
    }
   ],
   "source": [
    "#Histogram to show the usage of the treadmills by our customers.\n",
    "sns.histplot(cardio.Usage)"
   ]
  },
  {
   "cell_type": "markdown",
   "id": "50ba83a3",
   "metadata": {},
   "source": [
    "Observations\n",
    "1. The mean usage from the above statistics is 3.45. \n",
    "2. The graph shows that most of our customers use the treadmills for 4 or less days a week. \n",
    "3. There is a positive skew in our graph."
   ]
  },
  {
   "cell_type": "code",
   "execution_count": 35,
   "id": "7516de77",
   "metadata": {},
   "outputs": [
    {
     "data": {
      "text/plain": [
       "<AxesSubplot:xlabel='Usage', ylabel='Density'>"
      ]
     },
     "execution_count": 35,
     "metadata": {},
     "output_type": "execute_result"
    },
    {
     "data": {
      "image/png": "[encoded data removed]",
      "text/plain": [
       "<Figure size 432x288 with 1 Axes>"
      ]
     },
     "metadata": {
      "needs_background": "light"
     },
     "output_type": "display_data"
    }
   ],
   "source": [
    "#Distplot to show the usage of the treadmills by our customers.\n",
    "#Distplot superimposes a frequency polygon on a histogram.\n",
    "sns.distplot(cardio.Usage)"
   ]
  },
  {
   "cell_type": "markdown",
   "id": "bd206ca4",
   "metadata": {},
   "source": [
    "#### 7. Study of the fitness levels of our customers"
   ]
  },
  {
   "cell_type": "code",
   "execution_count": 36,
   "id": "3fdb5e7c",
   "metadata": {},
   "outputs": [
    {
     "data": {
      "text/plain": [
       "<AxesSubplot:xlabel='Fitness', ylabel='Count'>"
      ]
     },
     "execution_count": 36,
     "metadata": {},
     "output_type": "execute_result"
    },
    {
     "data": {
      "image/png": "[encoded data removed]",
      "text/plain": [
       "<Figure size 432x288 with 1 Axes>"
      ]
     },
     "metadata": {
      "needs_background": "light"
     },
     "output_type": "display_data"
    }
   ],
   "source": [
    "#Histogram to show the fitness score (self) of our customers.\n",
    "sns.histplot(cardio.Fitness)"
   ]
  },
  {
   "cell_type": "code",
   "execution_count": 37,
   "id": "c6450d27",
   "metadata": {},
   "outputs": [
    {
     "data": {
      "text/plain": [
       "<AxesSubplot:xlabel='Fitness', ylabel='Density'>"
      ]
     },
     "execution_count": 37,
     "metadata": {},
     "output_type": "execute_result"
    },
    {
     "data": {
      "image/png": "[encoded data removed]",
      "text/plain": [
       "<Figure size 432x288 with 1 Axes>"
      ]
     },
     "metadata": {
      "needs_background": "light"
     },
     "output_type": "display_data"
    }
   ],
   "source": [
    "sns.distplot(cardio.Fitness)"
   ]
  },
  {
   "cell_type": "markdown",
   "id": "f7af9d73",
   "metadata": {},
   "source": [
    "Observations\n",
    "1. The mean usage from the above statistics is 3.1 while the maximum score that any customer has given themselves is 5.0 \n",
    "2. The graph shows that most of our customers has given themselves a score of 4.0 or less (75%). \n",
    "3. There is no skew in our graph."
   ]
  },
  {
   "cell_type": "markdown",
   "id": "7dfd533a",
   "metadata": {},
   "source": [
    "#### 8. Study of the expected miles that our customers intend to run on the treadmill."
   ]
  },
  {
   "cell_type": "code",
   "execution_count": 38,
   "id": "5272bcec",
   "metadata": {},
   "outputs": [
    {
     "data": {
      "text/plain": [
       "<AxesSubplot:xlabel='Miles', ylabel='Count'>"
      ]
     },
     "execution_count": 38,
     "metadata": {},
     "output_type": "execute_result"
    },
    {
     "data": {
      "image/png": "[encoded data removed]",
      "text/plain": [
       "<Figure size 432x288 with 1 Axes>"
      ]
     },
     "metadata": {
      "needs_background": "light"
     },
     "output_type": "display_data"
    }
   ],
   "source": [
    "#Histogram to show the expected miles that our customers think they can run.\n",
    "sns.histplot(cardio.Miles)"
   ]
  },
  {
   "cell_type": "code",
   "execution_count": 39,
   "id": "2813afe4",
   "metadata": {},
   "outputs": [
    {
     "data": {
      "text/plain": [
       "<AxesSubplot:>"
      ]
     },
     "execution_count": 39,
     "metadata": {},
     "output_type": "execute_result"
    },
    {
     "data": {
      "image/png": "[encoded data removed]",
      "text/plain": [
       "<Figure size 432x288 with 1 Axes>"
      ]
     },
     "metadata": {
      "needs_background": "light"
     },
     "output_type": "display_data"
    }
   ],
   "source": [
    "#Boxplot of the expected miles that our customers think they can run.\n",
    "cardio.boxplot(column=['Miles'], grid=False, color='black')"
   ]
  },
  {
   "cell_type": "markdown",
   "id": "481c9344",
   "metadata": {},
   "source": [
    "Observations\n",
    "1. The mean number of miles that our customers think that they can run is 103.19 miles, while 75% of our customers think they can run 114 miles. \n",
    "2. The maximum that a customer thinks that they can run is 360 miles.\n",
    "3. There is a positive skew in our graph."
   ]
  },
  {
   "cell_type": "markdown",
   "id": "55c48103",
   "metadata": {},
   "source": [
    "#### 9. FacetGrid of age of customers when compared with respect to Gender."
   ]
  },
  {
   "cell_type": "code",
   "execution_count": 40,
   "id": "98fba999",
   "metadata": {},
   "outputs": [
    {
     "data": {
      "text/plain": [
       "<seaborn.axisgrid.FacetGrid at 0x12065bdc0>"
      ]
     },
     "execution_count": 40,
     "metadata": {},
     "output_type": "execute_result"
    },
    {
     "data": {
      "image/png": "[encoded data removed]",
      "text/plain": [
       "<Figure size 288.125x216 with 1 Axes>"
      ]
     },
     "metadata": {
      "needs_background": "light"
     },
     "output_type": "display_data"
    }
   ],
   "source": [
    "sns.FacetGrid(cardio, hue = 'Gender').map(sns.distplot,'Age').add_legend()"
   ]
  },
  {
   "cell_type": "markdown",
   "id": "efc909a0",
   "metadata": {},
   "source": [
    "Observation\n",
    "1. The average age per gender is also the same as the average age of the overall data set."
   ]
  },
  {
   "cell_type": "markdown",
   "id": "9f4e7bef",
   "metadata": {},
   "source": [
    "#### 10. Bar Graph of sale of treadmills by product type."
   ]
  },
  {
   "cell_type": "code",
   "execution_count": 41,
   "id": "7a1e67bd",
   "metadata": {},
   "outputs": [
    {
     "data": {
      "text/plain": [
       "TM195    80\n",
       "TM498    60\n",
       "TM798    40\n",
       "Name: Product, dtype: int64"
      ]
     },
     "execution_count": 41,
     "metadata": {},
     "output_type": "execute_result"
    }
   ],
   "source": [
    "cardio_groupanalysis = cardio['Product'].value_counts()\n",
    "cardio_groupanalysis"
   ]
  },
  {
   "cell_type": "code",
   "execution_count": 42,
   "id": "19bf6bf9",
   "metadata": {},
   "outputs": [
    {
     "data": {
      "text/plain": [
       "<AxesSubplot:>"
      ]
     },
     "execution_count": 42,
     "metadata": {},
     "output_type": "execute_result"
    },
    {
     "data": {
      "image/png": "[encoded data removed]",
      "text/plain": [
       "<Figure size 432x288 with 1 Axes>"
      ]
     },
     "metadata": {
      "needs_background": "light"
     },
     "output_type": "display_data"
    }
   ],
   "source": [
    "cardio_groupanalysis.plot(kind='bar')"
   ]
  },
  {
   "cell_type": "markdown",
   "id": "d7f8a7d8",
   "metadata": {},
   "source": [
    "Observation\n",
    "1. TM195 treadmills are the most preffered type of treadmills that the customers like to purchase."
   ]
  },
  {
   "cell_type": "markdown",
   "id": "1dd605ec",
   "metadata": {},
   "source": [
    "# Multivariate analysis"
   ]
  },
  {
   "cell_type": "markdown",
   "id": "c4da5603",
   "metadata": {},
   "source": [
    "#### 1. Use Pairplot to show relationship of each numerical column with other column when compared with respect to gender."
   ]
  },
  {
   "cell_type": "code",
   "execution_count": 43,
   "id": "0548c481",
   "metadata": {},
   "outputs": [
    {
     "data": {
      "image/png": "[encoded data removed]",
      "text/plain": [
       "<Figure size 1080x1080 with 42 Axes>"
      ]
     },
     "metadata": {
      "needs_background": "light"
     },
     "output_type": "display_data"
    }
   ],
   "source": [
    "#Create a pairplot on the cardio data frame and display the output.\n",
    "sns.pairplot(cardio)\n",
    "plt.show()"
   ]
  },
  {
   "cell_type": "markdown",
   "id": "1e7772d9",
   "metadata": {},
   "source": [
    "Observations:\n",
    "1. When we see age versus income, as age increases, so does the income.\n",
    "2. Comparsing miles expected to be ran with age, younger people expect to run more miles and older customers are expecting themselves to run lesser miles. As age is increasing, expected miles to be ran is decreasing.\n",
    "3. Comparing usage with age, younger people are expected to use the treadmill more frequently than older people in the week.\n",
    "4. When comparing fitness with miles, customers who are expecting to run more miles are giving themselves a higher fitness score.\n",
    "5. When comparing age versus education, younger people have lesser years of education.\n",
    "6. People with lesser income are expecting to run more number of miles.\n",
    "7. People with higher income are expecting to use the machine less throughout the week."
   ]
  },
  {
   "cell_type": "markdown",
   "id": "88c8b78a",
   "metadata": {},
   "source": [
    "#### 2. Find correlation among columns to justify above observations"
   ]
  },
  {
   "cell_type": "code",
   "execution_count": 44,
   "id": "edde2152",
   "metadata": {},
   "outputs": [
    {
     "data": {
      "text/html": [
       "<div>\n",
       "<style scoped>\n",
       "    .dataframe tbody tr th:only-of-type {\n",
       "        vertical-align: middle;\n",
       "    }\n",
       "\n",
       "    .dataframe tbody tr th {\n",
       "        vertical-align: top;\n",
       "    }\n",
       "\n",
       "    .dataframe thead th {\n",
       "        text-align: right;\n",
       "    }\n",
       "</style>\n",
       "<table border=\"1\" class=\"dataframe\">\n",
       "  <thead>\n",
       "    <tr style=\"text-align: right;\">\n",
       "      <th></th>\n",
       "      <th>Age</th>\n",
       "      <th>Education</th>\n",
       "      <th>Usage</th>\n",
       "      <th>Fitness</th>\n",
       "      <th>Income</th>\n",
       "      <th>Miles</th>\n",
       "    </tr>\n",
       "  </thead>\n",
       "  <tbody>\n",
       "    <tr>\n",
       "      <th>Age</th>\n",
       "      <td>1.00000</td>\n",
       "      <td>0.28050</td>\n",
       "      <td>0.01506</td>\n",
       "      <td>0.06110</td>\n",
       "      <td>0.51341</td>\n",
       "      <td>0.03662</td>\n",
       "    </tr>\n",
       "    <tr>\n",
       "      <th>Education</th>\n",
       "      <td>0.28050</td>\n",
       "      <td>1.00000</td>\n",
       "      <td>0.39516</td>\n",
       "      <td>0.41058</td>\n",
       "      <td>0.62583</td>\n",
       "      <td>0.30728</td>\n",
       "    </tr>\n",
       "    <tr>\n",
       "      <th>Usage</th>\n",
       "      <td>0.01506</td>\n",
       "      <td>0.39516</td>\n",
       "      <td>1.00000</td>\n",
       "      <td>0.66861</td>\n",
       "      <td>0.51954</td>\n",
       "      <td>0.75913</td>\n",
       "    </tr>\n",
       "    <tr>\n",
       "      <th>Fitness</th>\n",
       "      <td>0.06110</td>\n",
       "      <td>0.41058</td>\n",
       "      <td>0.66861</td>\n",
       "      <td>1.00000</td>\n",
       "      <td>0.53501</td>\n",
       "      <td>0.78570</td>\n",
       "    </tr>\n",
       "    <tr>\n",
       "      <th>Income</th>\n",
       "      <td>0.51341</td>\n",
       "      <td>0.62583</td>\n",
       "      <td>0.51954</td>\n",
       "      <td>0.53501</td>\n",
       "      <td>1.00000</td>\n",
       "      <td>0.54347</td>\n",
       "    </tr>\n",
       "    <tr>\n",
       "      <th>Miles</th>\n",
       "      <td>0.03662</td>\n",
       "      <td>0.30728</td>\n",
       "      <td>0.75913</td>\n",
       "      <td>0.78570</td>\n",
       "      <td>0.54347</td>\n",
       "      <td>1.00000</td>\n",
       "    </tr>\n",
       "  </tbody>\n",
       "</table>\n",
       "</div>"
      ],
      "text/plain": [
       "              Age  Education   Usage  Fitness  Income   Miles\n",
       "Age       1.00000    0.28050 0.01506  0.06110 0.51341 0.03662\n",
       "Education 0.28050    1.00000 0.39516  0.41058 0.62583 0.30728\n",
       "Usage     0.01506    0.39516 1.00000  0.66861 0.51954 0.75913\n",
       "Fitness   0.06110    0.41058 0.66861  1.00000 0.53501 0.78570\n",
       "Income    0.51341    0.62583 0.51954  0.53501 1.00000 0.54347\n",
       "Miles     0.03662    0.30728 0.75913  0.78570 0.54347 1.00000"
      ]
     },
     "execution_count": 44,
     "metadata": {},
     "output_type": "execute_result"
    }
   ],
   "source": [
    "#find correlation among columns\n",
    "correlation = cardio.corr()\n",
    "correlation"
   ]
  },
  {
   "cell_type": "markdown",
   "id": "f2920672",
   "metadata": {},
   "source": [
    "Observations\n",
    "1. Fitness and expected miles to be ran are strongly correlated.\n",
    "2. Actual Usage and expected miles to be ran are also strongly correlated.\n",
    "3. Fitness and usage are also strongly correlated.\n",
    "4. Miles to be ran and income are moderately correlated.\n",
    "5. Age and income are also moderately correlated.\n",
    "6. Age and number of miles expected to be ran are barely correlated."
   ]
  },
  {
   "cell_type": "markdown",
   "id": "c9a873cd",
   "metadata": {},
   "source": [
    "#### 3. Heatmap of the correlation among columns\n"
   ]
  },
  {
   "cell_type": "code",
   "execution_count": 45,
   "id": "b3012d00",
   "metadata": {},
   "outputs": [
    {
     "data": {
      "image/png": "[encoded data removed]",
      "text/plain": [
       "<Figure size 1080x504 with 2 Axes>"
      ]
     },
     "metadata": {
      "needs_background": "light"
     },
     "output_type": "display_data"
    }
   ],
   "source": [
    "#Here we are drawing a heatmap of the correlation matrix in the previous step and each variable's correlation is shown with corresponding columns\n",
    "plt.figure(figsize=(15, 7))\n",
    "sns.heatmap(correlation, annot=True, vmin=-1, vmax=1, \n",
    "            fmt=\".2f\", cmap=\"Spectral\")\n",
    "plt.show()"
   ]
  },
  {
   "cell_type": "markdown",
   "id": "7844f0eb",
   "metadata": {},
   "source": [
    "Observations\n",
    "1. The most strongly correlated columns are: (Usage, Miles), (Fitness,Miles), (Income, Education), (Fitness, Usage).\n",
    "2. Some columns that are moderately correlated are: (Age, Income), (Usage, Income), (Fitness, Income), (Income, Miles)\n",
    "3. Except Income, Age is not correlated strongly with any other column"
   ]
  },
  {
   "cell_type": "markdown",
   "id": "51f6d12c",
   "metadata": {},
   "source": [
    "#### 4. Show violin plot of age versus income\n"
   ]
  },
  {
   "cell_type": "code",
   "execution_count": 46,
   "id": "8576970f",
   "metadata": {},
   "outputs": [
    {
     "data": {
      "text/plain": [
       "<AxesSubplot:xlabel='Age', ylabel='Income'>"
      ]
     },
     "execution_count": 46,
     "metadata": {},
     "output_type": "execute_result"
    },
    {
     "data": {
      "image/png": "[encoded data removed]",
      "text/plain": [
       "<Figure size 432x288 with 1 Axes>"
      ]
     },
     "metadata": {
      "needs_background": "light"
     },
     "output_type": "display_data"
    }
   ],
   "source": [
    "#Violin plot of age versus income\n",
    "sns.violinplot(x = 'Age', y = 'Income', data = cardio, size = 8)"
   ]
  },
  {
   "cell_type": "markdown",
   "id": "a1c0b2b8",
   "metadata": {},
   "source": [
    "Observations\n",
    "1. As age increases, so does the income range."
   ]
  },
  {
   "cell_type": "markdown",
   "id": "91bef87b",
   "metadata": {},
   "source": [
    "#### 5. Analysis of sale of treadmill by the product type\n"
   ]
  },
  {
   "cell_type": "code",
   "execution_count": 47,
   "id": "7f7916f4",
   "metadata": {},
   "outputs": [
    {
     "data": {
      "text/plain": [
       "TM195    80\n",
       "TM498    60\n",
       "TM798    40\n",
       "Name: Product, dtype: int64"
      ]
     },
     "execution_count": 47,
     "metadata": {},
     "output_type": "execute_result"
    }
   ],
   "source": [
    "#Find count of each type of treadmill sold.\n",
    "cardio['Product'].value_counts()"
   ]
  },
  {
   "cell_type": "code",
   "execution_count": 48,
   "id": "47fa2209",
   "metadata": {},
   "outputs": [
    {
     "data": {
      "text/html": [
       "<div>\n",
       "<style scoped>\n",
       "    .dataframe tbody tr th:only-of-type {\n",
       "        vertical-align: middle;\n",
       "    }\n",
       "\n",
       "    .dataframe tbody tr th {\n",
       "        vertical-align: top;\n",
       "    }\n",
       "\n",
       "    .dataframe thead th {\n",
       "        text-align: right;\n",
       "    }\n",
       "</style>\n",
       "<table border=\"1\" class=\"dataframe\">\n",
       "  <thead>\n",
       "    <tr style=\"text-align: right;\">\n",
       "      <th></th>\n",
       "      <th></th>\n",
       "      <th>Age</th>\n",
       "      <th>Education</th>\n",
       "      <th>MaritalStatus</th>\n",
       "      <th>Usage</th>\n",
       "      <th>Fitness</th>\n",
       "      <th>Income</th>\n",
       "      <th>Miles</th>\n",
       "    </tr>\n",
       "    <tr>\n",
       "      <th>Product</th>\n",
       "      <th>Gender</th>\n",
       "      <th></th>\n",
       "      <th></th>\n",
       "      <th></th>\n",
       "      <th></th>\n",
       "      <th></th>\n",
       "      <th></th>\n",
       "      <th></th>\n",
       "    </tr>\n",
       "  </thead>\n",
       "  <tbody>\n",
       "    <tr>\n",
       "      <th rowspan=\"2\" valign=\"top\">TM195</th>\n",
       "      <th>Female</th>\n",
       "      <td>40</td>\n",
       "      <td>40</td>\n",
       "      <td>40</td>\n",
       "      <td>40</td>\n",
       "      <td>40</td>\n",
       "      <td>40</td>\n",
       "      <td>40</td>\n",
       "    </tr>\n",
       "    <tr>\n",
       "      <th>Male</th>\n",
       "      <td>40</td>\n",
       "      <td>40</td>\n",
       "      <td>40</td>\n",
       "      <td>40</td>\n",
       "      <td>40</td>\n",
       "      <td>40</td>\n",
       "      <td>40</td>\n",
       "    </tr>\n",
       "    <tr>\n",
       "      <th rowspan=\"2\" valign=\"top\">TM498</th>\n",
       "      <th>Female</th>\n",
       "      <td>29</td>\n",
       "      <td>29</td>\n",
       "      <td>29</td>\n",
       "      <td>29</td>\n",
       "      <td>29</td>\n",
       "      <td>29</td>\n",
       "      <td>29</td>\n",
       "    </tr>\n",
       "    <tr>\n",
       "      <th>Male</th>\n",
       "      <td>31</td>\n",
       "      <td>31</td>\n",
       "      <td>31</td>\n",
       "      <td>31</td>\n",
       "      <td>31</td>\n",
       "      <td>31</td>\n",
       "      <td>31</td>\n",
       "    </tr>\n",
       "    <tr>\n",
       "      <th rowspan=\"2\" valign=\"top\">TM798</th>\n",
       "      <th>Female</th>\n",
       "      <td>7</td>\n",
       "      <td>7</td>\n",
       "      <td>7</td>\n",
       "      <td>7</td>\n",
       "      <td>7</td>\n",
       "      <td>7</td>\n",
       "      <td>7</td>\n",
       "    </tr>\n",
       "    <tr>\n",
       "      <th>Male</th>\n",
       "      <td>33</td>\n",
       "      <td>33</td>\n",
       "      <td>33</td>\n",
       "      <td>33</td>\n",
       "      <td>33</td>\n",
       "      <td>33</td>\n",
       "      <td>33</td>\n",
       "    </tr>\n",
       "  </tbody>\n",
       "</table>\n",
       "</div>"
      ],
      "text/plain": [
       "                Age  Education  MaritalStatus  Usage  Fitness  Income  Miles\n",
       "Product Gender                                                              \n",
       "TM195   Female   40         40             40     40       40      40     40\n",
       "        Male     40         40             40     40       40      40     40\n",
       "TM498   Female   29         29             29     29       29      29     29\n",
       "        Male     31         31             31     31       31      31     31\n",
       "TM798   Female    7          7              7      7        7       7      7\n",
       "        Male     33         33             33     33       33      33     33"
      ]
     },
     "execution_count": 48,
     "metadata": {},
     "output_type": "execute_result"
    }
   ],
   "source": [
    "#Using GroupBy query on Product and Gender and aggregating on the count of number of treadmills sold.\n",
    "cardio_groupanalysis = cardio.groupby(['Product','Gender']).agg('count')\n",
    "cardio_groupanalysis"
   ]
  },
  {
   "cell_type": "code",
   "execution_count": 49,
   "id": "52ee659c",
   "metadata": {},
   "outputs": [
    {
     "data": {
      "text/plain": [
       "<AxesSubplot:xlabel='Gender'>"
      ]
     },
     "execution_count": 49,
     "metadata": {},
     "output_type": "execute_result"
    },
    {
     "data": {
      "image/png": "[encoded data removed]",
      "text/plain": [
       "<Figure size 432x288 with 1 Axes>"
      ]
     },
     "metadata": {
      "needs_background": "light"
     },
     "output_type": "display_data"
    }
   ],
   "source": [
    "#A crosstab to show the number of treadmills sold per product type based on the gender of the customers.\n",
    "pd.crosstab(cardio['Gender'],cardio['Product']).plot.bar()"
   ]
  },
  {
   "cell_type": "markdown",
   "id": "1c2fe3c5",
   "metadata": {},
   "source": [
    "Observations\n",
    "1. TM195 treadmill is bought equally by male and female customers.\n",
    "2. TM798 is heavily preferred by male customers over female customers."
   ]
  },
  {
   "cell_type": "markdown",
   "id": "5895a5f1",
   "metadata": {},
   "source": [
    "#### 6. Analysis of income of customers by their marital status"
   ]
  },
  {
   "cell_type": "code",
   "execution_count": 50,
   "id": "c68c1f06",
   "metadata": {},
   "outputs": [
    {
     "data": {
      "text/html": [
       "<div>\n",
       "<style scoped>\n",
       "    .dataframe tbody tr th:only-of-type {\n",
       "        vertical-align: middle;\n",
       "    }\n",
       "\n",
       "    .dataframe tbody tr th {\n",
       "        vertical-align: top;\n",
       "    }\n",
       "\n",
       "    .dataframe thead th {\n",
       "        text-align: right;\n",
       "    }\n",
       "</style>\n",
       "<table border=\"1\" class=\"dataframe\">\n",
       "  <thead>\n",
       "    <tr style=\"text-align: right;\">\n",
       "      <th></th>\n",
       "      <th>MaritalStatus</th>\n",
       "      <th>Income</th>\n",
       "    </tr>\n",
       "  </thead>\n",
       "  <tbody>\n",
       "    <tr>\n",
       "      <th>0</th>\n",
       "      <td>Partnered</td>\n",
       "      <td>55763.00000</td>\n",
       "    </tr>\n",
       "    <tr>\n",
       "      <th>1</th>\n",
       "      <td>Single</td>\n",
       "      <td>50724.42466</td>\n",
       "    </tr>\n",
       "  </tbody>\n",
       "</table>\n",
       "</div>"
      ],
      "text/plain": [
       "  MaritalStatus      Income\n",
       "0     Partnered 55763.00000\n",
       "1        Single 50724.42466"
      ]
     },
     "execution_count": 50,
     "metadata": {},
     "output_type": "execute_result"
    }
   ],
   "source": [
    "#Group by marital status and find the average income of each type of marital status.\n",
    "cardio.groupby(['MaritalStatus']).agg('mean').reset_index()[['MaritalStatus','Income']]"
   ]
  },
  {
   "cell_type": "code",
   "execution_count": 51,
   "id": "c168fea2",
   "metadata": {},
   "outputs": [
    {
     "data": {
      "text/plain": [
       "<AxesSubplot:>"
      ]
     },
     "execution_count": 51,
     "metadata": {},
     "output_type": "execute_result"
    },
    {
     "data": {
      "image/png": "[encoded data removed]",
      "text/plain": [
       "<Figure size 432x288 with 1 Axes>"
      ]
     },
     "metadata": {
      "needs_background": "light"
     },
     "output_type": "display_data"
    }
   ],
   "source": [
    "#Bar graph of the above result\n",
    "cardio.groupby(['MaritalStatus']).agg('mean').reset_index()[['MaritalStatus','Income']].plot(kind='bar')\n",
    "#0 represents partered marital status and 1 represents single marital status."
   ]
  },
  {
   "cell_type": "markdown",
   "id": "98df6a08",
   "metadata": {},
   "source": [
    "Observation\n",
    "1. Customers whose marital status is \"Partnered\" have a higher average income than \"Single\" customers."
   ]
  },
  {
   "cell_type": "markdown",
   "id": "6a1e4d98",
   "metadata": {},
   "source": [
    "#### 7. Analysis of sale of product types of treadmills by customers group by their marital status"
   ]
  },
  {
   "cell_type": "code",
   "execution_count": 52,
   "id": "e019201b",
   "metadata": {},
   "outputs": [
    {
     "data": {
      "text/html": [
       "<div>\n",
       "<style scoped>\n",
       "    .dataframe tbody tr th:only-of-type {\n",
       "        vertical-align: middle;\n",
       "    }\n",
       "\n",
       "    .dataframe tbody tr th {\n",
       "        vertical-align: top;\n",
       "    }\n",
       "\n",
       "    .dataframe thead th {\n",
       "        text-align: right;\n",
       "    }\n",
       "</style>\n",
       "<table border=\"1\" class=\"dataframe\">\n",
       "  <thead>\n",
       "    <tr style=\"text-align: right;\">\n",
       "      <th></th>\n",
       "      <th></th>\n",
       "      <th>Age</th>\n",
       "      <th>Gender</th>\n",
       "      <th>Education</th>\n",
       "      <th>Usage</th>\n",
       "      <th>Fitness</th>\n",
       "      <th>Income</th>\n",
       "      <th>Miles</th>\n",
       "    </tr>\n",
       "    <tr>\n",
       "      <th>Product</th>\n",
       "      <th>MaritalStatus</th>\n",
       "      <th></th>\n",
       "      <th></th>\n",
       "      <th></th>\n",
       "      <th></th>\n",
       "      <th></th>\n",
       "      <th></th>\n",
       "      <th></th>\n",
       "    </tr>\n",
       "  </thead>\n",
       "  <tbody>\n",
       "    <tr>\n",
       "      <th rowspan=\"2\" valign=\"top\">TM195</th>\n",
       "      <th>Partnered</th>\n",
       "      <td>48</td>\n",
       "      <td>48</td>\n",
       "      <td>48</td>\n",
       "      <td>48</td>\n",
       "      <td>48</td>\n",
       "      <td>48</td>\n",
       "      <td>48</td>\n",
       "    </tr>\n",
       "    <tr>\n",
       "      <th>Single</th>\n",
       "      <td>32</td>\n",
       "      <td>32</td>\n",
       "      <td>32</td>\n",
       "      <td>32</td>\n",
       "      <td>32</td>\n",
       "      <td>32</td>\n",
       "      <td>32</td>\n",
       "    </tr>\n",
       "    <tr>\n",
       "      <th rowspan=\"2\" valign=\"top\">TM498</th>\n",
       "      <th>Partnered</th>\n",
       "      <td>36</td>\n",
       "      <td>36</td>\n",
       "      <td>36</td>\n",
       "      <td>36</td>\n",
       "      <td>36</td>\n",
       "      <td>36</td>\n",
       "      <td>36</td>\n",
       "    </tr>\n",
       "    <tr>\n",
       "      <th>Single</th>\n",
       "      <td>24</td>\n",
       "      <td>24</td>\n",
       "      <td>24</td>\n",
       "      <td>24</td>\n",
       "      <td>24</td>\n",
       "      <td>24</td>\n",
       "      <td>24</td>\n",
       "    </tr>\n",
       "    <tr>\n",
       "      <th rowspan=\"2\" valign=\"top\">TM798</th>\n",
       "      <th>Partnered</th>\n",
       "      <td>23</td>\n",
       "      <td>23</td>\n",
       "      <td>23</td>\n",
       "      <td>23</td>\n",
       "      <td>23</td>\n",
       "      <td>23</td>\n",
       "      <td>23</td>\n",
       "    </tr>\n",
       "    <tr>\n",
       "      <th>Single</th>\n",
       "      <td>17</td>\n",
       "      <td>17</td>\n",
       "      <td>17</td>\n",
       "      <td>17</td>\n",
       "      <td>17</td>\n",
       "      <td>17</td>\n",
       "      <td>17</td>\n",
       "    </tr>\n",
       "  </tbody>\n",
       "</table>\n",
       "</div>"
      ],
      "text/plain": [
       "                       Age  Gender  Education  Usage  Fitness  Income  Miles\n",
       "Product MaritalStatus                                                       \n",
       "TM195   Partnered       48      48         48     48       48      48     48\n",
       "        Single          32      32         32     32       32      32     32\n",
       "TM498   Partnered       36      36         36     36       36      36     36\n",
       "        Single          24      24         24     24       24      24     24\n",
       "TM798   Partnered       23      23         23     23       23      23     23\n",
       "        Single          17      17         17     17       17      17     17"
      ]
     },
     "execution_count": 52,
     "metadata": {},
     "output_type": "execute_result"
    }
   ],
   "source": [
    "#Using GroupBy query on Product and Marital Status and aggregating on the count of number of treadmills sold.\n",
    "cardio_groupanalysis = cardio.groupby(['Product','MaritalStatus']).agg('count')\n",
    "cardio_groupanalysis\n"
   ]
  },
  {
   "cell_type": "code",
   "execution_count": 53,
   "id": "1a64a500",
   "metadata": {},
   "outputs": [
    {
     "data": {
      "text/plain": [
       "<AxesSubplot:xlabel='Product'>"
      ]
     },
     "execution_count": 53,
     "metadata": {},
     "output_type": "execute_result"
    },
    {
     "data": {
      "image/png": "[encoded data removed]",
      "text/plain": [
       "<Figure size 432x288 with 1 Axes>"
      ]
     },
     "metadata": {
      "needs_background": "light"
     },
     "output_type": "display_data"
    }
   ],
   "source": [
    "#A crosstab to show the number of treadmills sold per product type based on the marital status of the customers.\n",
    "pd.crosstab(cardio['Product'],cardio['MaritalStatus']).plot.bar()"
   ]
  },
  {
   "cell_type": "markdown",
   "id": "4b1888d7",
   "metadata": {},
   "source": [
    "Observation\n",
    "1. Partnered couples prefer to buy TM195 treadmill over other types of treadmills.\n",
    "2. Single couples also prefer to buy TM195 treadmill over other types of treadmills."
   ]
  },
  {
   "cell_type": "markdown",
   "id": "bbb5a06d",
   "metadata": {},
   "source": [
    "#### 8. Analysis of age versus income of customers with respect to what type of treadmills they like"
   ]
  },
  {
   "cell_type": "code",
   "execution_count": 54,
   "id": "aa99b7f4",
   "metadata": {},
   "outputs": [
    {
     "data": {
      "text/plain": [
       "<AxesSubplot:xlabel='Age', ylabel='Income'>"
      ]
     },
     "execution_count": 54,
     "metadata": {},
     "output_type": "execute_result"
    },
    {
     "data": {
      "image/png": "[encoded data removed]",
      "text/plain": [
       "<Figure size 432x288 with 1 Axes>"
      ]
     },
     "metadata": {
      "needs_background": "light"
     },
     "output_type": "display_data"
    }
   ],
   "source": [
    "#Using scatter plot for the above analysis\n",
    "sns.scatterplot(x = \"Age\", y = \"Income\", hue = \"Product\", data = cardio)"
   ]
  },
  {
   "cell_type": "markdown",
   "id": "8cb4ce46",
   "metadata": {},
   "source": [
    "Observation\n",
    "1. People with higher income tend to like product TM 798. Though the count is less, but richer people have a different preference as shown by the graph.\n",
    "2. People with medium level income but higher age are preferring product TM195.\n",
    "3. Income is a major factor in selection of product by our customers."
   ]
  },
  {
   "cell_type": "markdown",
   "id": "ac832739",
   "metadata": {},
   "source": [
    "#### 9. Analysis of marital status versus income of customers with respect to what type of treadmills they like"
   ]
  },
  {
   "cell_type": "code",
   "execution_count": 55,
   "id": "24e0c206",
   "metadata": {},
   "outputs": [
    {
     "data": {
      "text/plain": [
       "<AxesSubplot:xlabel='MaritalStatus', ylabel='Income'>"
      ]
     },
     "execution_count": 55,
     "metadata": {},
     "output_type": "execute_result"
    },
    {
     "data": {
      "image/png": "[encoded data removed]",
      "text/plain": [
       "<Figure size 432x288 with 1 Axes>"
      ]
     },
     "metadata": {
      "needs_background": "light"
     },
     "output_type": "display_data"
    }
   ],
   "source": [
    "#Using scatter plot for the above analysis\n",
    "sns.scatterplot(x = \"MaritalStatus\", y = \"Income\", hue = \"Product\", data = cardio)"
   ]
  },
  {
   "cell_type": "markdown",
   "id": "c937c064",
   "metadata": {},
   "source": [
    "Observation\n",
    "1. People with higher income tend to like product TM 798. Though the count is less, but richer people have a different preference as shown by the graph.\n",
    "2. Partnered folks with lesser income are liking product TM498 and with higher income are liking product TM798.\n",
    "3. Single folks with least level of income are preferring TM195, with medium income are liking TM498 and with higher income are liking TM798, though their count of choosing TM798 is much lower than that of parterned customers."
   ]
  },
  {
   "cell_type": "markdown",
   "id": "5030aba9",
   "metadata": {},
   "source": [
    "# Recommendations and suggestions to the firm"
   ]
  },
  {
   "cell_type": "markdown",
   "id": "b6977a89",
   "metadata": {},
   "source": [
    "Recommendations:\n",
    "1. Market product TM195 to lower income and medium aged customers who are single.\n",
    "2. Market product TM798 to higher income and older aged customers who are male and are parterned.\n",
    "3. Market product TM498 to medium income and youngest group of customers who are parterned.\n",
    "4. Market product TM798 more to male customers as they prefer it excessively over female customers.\n",
    "5. Younger aged customers are expected to use the treadmills more than older aged customers.\n",
    "6. Income is one of the biggest influencers of the product."
   ]
  }
 ],
 "metadata": {
  "kernelspec": {
   "display_name": "Python 3 (ipykernel)",
   "language": "python",
   "name": "python3"
  },
  "language_info": {
   "codemirror_mode": {
    "name": "ipython",
    "version": 3
   },
   "file_extension": ".py",
   "mimetype": "text/x-python",
   "name": "python",
   "nbconvert_exporter": "python",
   "pygments_lexer": "ipython3",
   "version": "3.9.7"
  }
 },
 "nbformat": 4,
 "nbformat_minor": 5
}
